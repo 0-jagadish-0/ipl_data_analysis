{
 "cells": [
  {
   "cell_type": "markdown",
   "metadata": {},
   "source": [
    "import required libraries 'pandas'(loading data),'seaborn','matplotlib'(visualisation)\n"
   ]
  },
  {
   "cell_type": "code",
   "execution_count": 2,
   "metadata": {},
   "outputs": [],
   "source": [
    "import pandas as pd\n",
    "import matplotlib.pyplot as plt\n",
    "import seaborn as sns\n",
    "\n"
   ]
  },
  {
   "cell_type": "markdown",
   "metadata": {},
   "source": [
    "loading data"
   ]
  },
  {
   "cell_type": "code",
   "execution_count": 3,
   "metadata": {},
   "outputs": [],
   "source": [
    "file_path_1= 'C:/Users/Agasthya/Documents/IPl_data_analysis/data/cricket_data.csv'\n",
    "file_path_2= 'C:/Users/Agasthya/Documents/IPl_data_analysis/data/IPL_Matches_2008_2022.csv'\n",
    "\n",
    "player = pd.read_csv(file_path_1)\n",
    "match = pd.read_csv(file_path_2)"
   ]
  },
  {
   "cell_type": "markdown",
   "metadata": {},
   "source": [
    "data cleaning"
   ]
  },
  {
   "cell_type": "markdown",
   "metadata": {},
   "source": [
    "checking for duplicate values"
   ]
  },
  {
   "cell_type": "code",
   "execution_count": null,
   "metadata": {},
   "outputs": [],
   "source": [
    "player_dup = player[player.duplicated()]\n",
    "match_dup= match[match.duplicated()]\n",
    "print(player_dup)\n",
    "print(match_dup)"
   ]
  },
  {
   "cell_type": "markdown",
   "metadata": {},
   "source": [
    "deleting method"
   ]
  },
  {
   "cell_type": "code",
   "execution_count": 5,
   "metadata": {},
   "outputs": [],
   "source": [
    "match = match.drop(columns=['method'])\n",
    "\n"
   ]
  },
  {
   "cell_type": "markdown",
   "metadata": {},
   "source": [
    "checking and cleaning null values"
   ]
  },
  {
   "cell_type": "code",
   "execution_count": null,
   "metadata": {},
   "outputs": [],
   "source": [
    "\n",
    "\n",
    "columns_to_fill = ['SuperOver','Margin','City','WinningTeam','Player_of_Match']\n",
    "\n",
    "match[columns_to_fill] = match[columns_to_fill].fillna('Unknown')\n",
    "\n",
    "print(f'player_columns:{match.isnull().sum()}')\n",
    "print(f'macth_columns:{player.isnull().sum()}')"
   ]
  },
  {
   "cell_type": "markdown",
   "metadata": {},
   "source": [
    "coverting datatypes"
   ]
  },
  {
   "cell_type": "code",
   "execution_count": null,
   "metadata": {},
   "outputs": [],
   "source": [
    "convert_int_player = ['Year','Matches_Batted','Not_Outs','Runs_Scored','Highest_Score','Batting_Average','Balls_Faced','Batting_Strike_Rate',\n",
    "               'Centuries','Half_Centuries','Fours','Sixes','Catches_Taken','Stumpings','Matches_Bowled','Balls_Bowled','Runs_Conceded',\n",
    "               'Wickets_Taken','Best_Bowling_Match','Bowling_Average','Economy_Rate','Bowling_Strike_Rate','Four_Wicket_Hauls','Five_Wicket_Hauls'\n",
    "               ]\n",
    "\n",
    "player['Player_Name'] = player['Player_Name'].astype(str)\n",
    "\n",
    "\n",
    "\n",
    "player[convert_int_player] = player[convert_int_player].apply(pd.to_numeric,errors='coerce')\n",
    "\n",
    "player[convert_int_player]=player[convert_int_player].fillna(0).astype(int)\n",
    "\n",
    "\n",
    "covert_int_match = ['ID','Date','Season','MatchNumber','WonBy']\n",
    "\n",
    "match[covert_int_match] = match[covert_int_match].apply(pd.to_numeric, errors='coerce')\n",
    "\n",
    "match[covert_int_match] = match[covert_int_match].fillna(0).astype(int)\n",
    "\n",
    "\n",
    "\n",
    "match.info()\n",
    "player.info()\n",
    "\n",
    "\n",
    "\n",
    "\n"
   ]
  },
  {
   "cell_type": "markdown",
   "metadata": {},
   "source": [
    "* data analysis *"
   ]
  },
  {
   "cell_type": "markdown",
   "metadata": {},
   "source": [
    "creating stats for all players using groupby (i can use this stat to creart n number of tables )"
   ]
  },
  {
   "cell_type": "code",
   "execution_count": null,
   "metadata": {},
   "outputs": [],
   "source": [
    "player_stats_sum = player[['Player_Name','Matches_Batted','Not_Outs','Runs_Scored','Balls_Faced',\n",
    "               'Centuries','Half_Centuries','Fours','Sixes','Catches_Taken','Stumpings','Matches_Bowled','Balls_Bowled','Runs_Conceded',\n",
    "               'Wickets_Taken','Four_Wicket_Hauls','Five_Wicket_Hauls']].groupby('Player_Name').sum()\n",
    "\n",
    "player_stats_avg = player[['Player_Name','Batting_Average','Batting_Strike_Rate',\n",
    "               'Bowling_Average','Economy_Rate','Bowling_Strike_Rate']].groupby('Player_Name').mean()\n",
    "\n",
    "print(f'stat1={player_stats_sum }')\n",
    "print(f'stat2={player_stats_avg }')"
   ]
  },
  {
   "cell_type": "code",
   "execution_count": 74,
   "metadata": {},
   "outputs": [],
   "source": [
    "player_stats_sum.to_csv('C:/Users/Agasthya/Documents/IPl_data_analysis/data/player_stat1.csv')\n",
    "player_stats_avg.to_csv('C:/Users/Agasthya/Documents/IPl_data_analysis/data/player_stat2.csv')"
   ]
  },
  {
   "cell_type": "markdown",
   "metadata": {},
   "source": [
    "find stats for specific player"
   ]
  },
  {
   "cell_type": "code",
   "execution_count": 45,
   "metadata": {},
   "outputs": [],
   "source": [
    "# Replace 'Player_Name' with the actual name of the player you want to find stats for\n",
    "player_name = 'Virat Kohli'\n",
    "\n",
    "\n",
    "specific_player_stats = player_stats_sum.loc[player_name]\n",
    "\n"
   ]
  },
  {
   "cell_type": "code",
   "execution_count": null,
   "metadata": {},
   "outputs": [],
   "source": [
    "specific_player_stats"
   ]
  },
  {
   "cell_type": "markdown",
   "metadata": {},
   "source": [
    "creating top player via any stat we want"
   ]
  },
  {
   "cell_type": "code",
   "execution_count": 26,
   "metadata": {},
   "outputs": [],
   "source": [
    "top_run = player_stats_sum.sort_values(by='Runs_Scored',ascending=False).head(10)\n",
    "top_wickets = player_stats_sum.sort_values(by='Wickets_Taken',ascending=False).head(10)\n",
    "most_sixes = player_stats_sum.sort_values(by='Sixes',ascending=False).head(25)\n",
    "\n"
   ]
  },
  {
   "cell_type": "code",
   "execution_count": null,
   "metadata": {},
   "outputs": [],
   "source": [
    "top_run['Runs_Scored'].plot(kind='bar',color='orange',figsize=(10,5))\n",
    "plt.title('top 10 batsman with most runs')\n",
    "plt.xlabel('player name')\n",
    "plt.ylabel('runs scored')\n",
    "plt.xticks(rotation =90)\n",
    "plt.show()"
   ]
  },
  {
   "cell_type": "code",
   "execution_count": null,
   "metadata": {},
   "outputs": [],
   "source": [
    "top_wickets['Wickets_Taken'].plot(kind='bar',color='purple',figsize=(10,5))\n",
    "plt.title('top 10 blowers with most wickets')\n",
    "plt.xlabel('player name')\n",
    "plt.ylabel('wickets taken')\n",
    "plt.xticks(rotation =90)\n",
    "plt.show()"
   ]
  },
  {
   "cell_type": "markdown",
   "metadata": {},
   "source": [
    "*Team wise performance*"
   ]
  },
  {
   "cell_type": "markdown",
   "metadata": {},
   "source": [
    "number of matches won by each team"
   ]
  },
  {
   "cell_type": "code",
   "execution_count": 49,
   "metadata": {},
   "outputs": [],
   "source": [
    "match_won = match['WinningTeam'].value_counts()"
   ]
  },
  {
   "cell_type": "code",
   "execution_count": null,
   "metadata": {},
   "outputs": [],
   "source": [
    "match_won"
   ]
  },
  {
   "cell_type": "markdown",
   "metadata": {},
   "source": [
    "toss and decision impact"
   ]
  },
  {
   "cell_type": "code",
   "execution_count": 70,
   "metadata": {},
   "outputs": [
    {
     "data": {
      "image/png": "[encoded data removed]",
      "text/plain": [
       "<Figure size 1000x500 with 1 Axes>"
      ]
     },
     "metadata": {},
     "output_type": "display_data"
    }
   ],
   "source": [
    "toss_winner_winrate = match.groupby('TossWinner')['WinningTeam'].apply(lambda x: (x == x.name).mean())\n",
    "\n",
    "plt.figure(figsize=(10, 5))\n",
    "sns.barplot(x=toss_winner_winrate.index, y=toss_winner_winrate.values)\n",
    "plt.title('Win Rate Based on Toss Winner')\n",
    "plt.xlabel('Toss Winner')\n",
    "plt.ylabel('Win Rate')\n",
    "plt.xticks(rotation=90)\n",
    "plt.show()"
   ]
  },
  {
   "cell_type": "code",
   "execution_count": 72,
   "metadata": {},
   "outputs": [],
   "source": [
    "player.to_excel('C:/Users/Agasthya/Documents/IPl_data_analysis/data/cricket_data.xlsx',index = False)"
   ]
  },
  {
   "cell_type": "code",
   "execution_count": null,
   "metadata": {},
   "outputs": [],
   "source": []
  }
 ],
 "metadata": {
  "kernelspec": {
   "display_name": ".venv",
   "language": "python",
   "name": "python3"
  },
  "language_info": {
   "codemirror_mode": {
    "name": "ipython",
    "version": 3
   },
   "file_extension": ".py",
   "mimetype": "text/x-python",
   "name": "python",
   "nbconvert_exporter": "python",
   "pygments_lexer": "ipython3",
   "version": "3.13.1"
  }
 },
 "nbformat": 4,
 "nbformat_minor": 2
}
